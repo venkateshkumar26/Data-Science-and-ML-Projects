{
  "nbformat": 4,
  "nbformat_minor": 0,
  "metadata": {
    "colab": {
      "provenance": [],
      "authorship_tag": "ABX9TyNP5p0DtivOk17d6NjhbMBc",
      "include_colab_link": true
    },
    "kernelspec": {
      "name": "python3",
      "display_name": "Python 3"
    },
    "language_info": {
      "name": "python"
    }
  },
  "cells": [
    {
      "cell_type": "markdown",
      "metadata": {
        "id": "view-in-github",
        "colab_type": "text"
      },
      "source": [
        "<a href=\"https://colab.research.google.com/github/venkateshkumar21/Data-Science-and-ML-Projects/blob/main/Customer_Churn_Prediction.ipynb\" target=\"_parent\"><img src=\"https://colab.research.google.com/assets/colab-badge.svg\" alt=\"Open In Colab\"/></a>"
      ]
    },
    {
      "cell_type": "code",
      "execution_count": 2,
      "metadata": {
        "colab": {
          "base_uri": "https://localhost:8080/",
          "height": 656
        },
        "id": "XJO5stPs--lM",
        "outputId": "e6632731-f55a-4c7f-ee48-5881eb6d4d79"
      },
      "outputs": [
        {
          "output_type": "stream",
          "name": "stdout",
          "text": [
            "Accuracy: 0.7984386089425124\n",
            "              precision    recall  f1-score   support\n",
            "\n",
            "           0       0.83      0.91      0.87      1036\n",
            "           1       0.66      0.49      0.56       373\n",
            "\n",
            "    accuracy                           0.80      1409\n",
            "   macro avg       0.75      0.70      0.71      1409\n",
            "weighted avg       0.79      0.80      0.79      1409\n",
            "\n"
          ]
        },
        {
          "output_type": "display_data",
          "data": {
            "text/plain": [
              "<Figure size 640x480 with 2 Axes>"
            ],
            "image/png": "[encoded data removed]"
          },
          "metadata": {}
        },
        {
          "output_type": "stream",
          "name": "stdout",
          "text": [
            "Predictions: ['Yes' 'No' 'No' 'No']\n"
          ]
        },
        {
          "output_type": "stream",
          "name": "stderr",
          "text": [
            "/usr/local/lib/python3.11/dist-packages/sklearn/utils/validation.py:2739: UserWarning: X does not have valid feature names, but RandomForestClassifier was fitted with feature names\n",
            "  warnings.warn(\n"
          ]
        }
      ],
      "source": [
        "import numpy as np\n",
        "import seaborn as sns\n",
        "import pandas as pd\n",
        "from sklearn.model_selection import train_test_split\n",
        "from sklearn.preprocessing import LabelEncoder,StandardScaler\n",
        "from sklearn.ensemble import RandomForestClassifier\n",
        "import matplotlib.pyplot as plt\n",
        "from sklearn.metrics import accuracy_score, confusion_matrix, classification_report\n",
        "\n",
        "df=pd.read_csv(\"Telco-Customer-Churn.csv\")\n",
        "df.head()\n",
        "df.isnull().sum()\n",
        "df.dropna(inplace=True)\n",
        "le=LabelEncoder()\n",
        "for column in df.select_dtypes(include=['object']).columns:\n",
        "    df[column] = le.fit_transform(df[column])\n",
        "\n",
        "df.drop(columns=['customerID'],inplace=True)\n",
        "df.head()\n",
        "x=df.drop(columns=['Churn'])\n",
        "y=df['Churn']\n",
        "x_train,x_test,y_train,y_test=train_test_split(x,y,test_size=0.2,random_state=42)\n",
        "model=RandomForestClassifier(n_estimators=100,random_state=42)\n",
        "model.fit(x_train,y_train)\n",
        "y_pred=model.predict(x_test)\n",
        "print(\"Accuracy:\",accuracy_score(y_test,y_pred))\n",
        "print(classification_report(y_test,y_pred))\n",
        "\n",
        "sns.heatmap(confusion_matrix(y_test,y_pred),annot=True,fmt='d',cmap='Blues')\n",
        "plt.show()\n",
        "sample_data = [\n",
        "    [0, 1, 0, 12,0, 1, 1, 1, 0, 1, 0, 0, 1, 0, 0, 1, 1, 80.50, 966.00],  # Example data point\n",
        "    [1, 0, 1, 48,1, 0, 0, 0, 1, 0, 1, 1, 0, 1, 2, 0, 0, 65.25, 3132.00],  # Another example\n",
        "    [0, 0, 0, 2,1, 1, 0, 1, 0, 0, 0, 0, 0, 0, 0, 1, 1, 25.00, 50.00],  # Yet another example\n",
        "    [1, 1, 0, 60,0, 1, 1, 1, 1, 1, 1, 1, 1, 2, 1, 0, 0, 110.00, 6600.00] # And another example\n",
        "]\n",
        "sample_data = np.array(sample_data)\n",
        "predictions = model.predict(sample_data)\n",
        "predictions=le.inverse_transform(predictions)\n",
        "print(\"Predictions:\", predictions)"
      ]
    }
  ]
}