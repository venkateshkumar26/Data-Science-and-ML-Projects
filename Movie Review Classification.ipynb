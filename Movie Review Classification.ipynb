{
 "cells": [
  {
   "cell_type": "code",
   "execution_count": 90,
   "id": "579068d5",
   "metadata": {},
   "outputs": [
    {
     "name": "stderr",
     "output_type": "stream",
     "text": [
      "[nltk_data] Downloading package movie_reviews to\n",
      "[nltk_data]     C:\\Users\\plpvk\\AppData\\Roaming\\nltk_data...\n",
      "[nltk_data]   Package movie_reviews is already up-to-date!\n"
     ]
    }
   ],
   "source": [
    "import nltk\n",
    "from nltk.corpus import stopwords\n",
    "from nltk.tokenize import word_tokenize,sent_tokenize\n",
    "nltk.download('movie_reviews')\n",
    "from nltk.corpus import movie_reviews"
   ]
  },
  {
   "cell_type": "code",
   "execution_count": 91,
   "id": "c171dd99",
   "metadata": {},
   "outputs": [
    {
     "name": "stdout",
     "output_type": "stream",
     "text": [
      "pos/cv026_29325.txt\n",
      "neg/cv030_22893.txt\n"
     ]
    }
   ],
   "source": [
    "print(movie_reviews.fileids(categories='pos')[26])\n",
    "print(movie_reviews.fileids(categories='neg')[30])"
   ]
  },
  {
   "cell_type": "code",
   "execution_count": 92,
   "id": "3ce6f206",
   "metadata": {},
   "outputs": [],
   "source": [
    "pos_reviews=[movie_reviews.raw(fileid) for fileid in movie_reviews.fileids(categories='pos')]\n",
    "neg_reviews=[movie_reviews.raw(fileid) for fileid in movie_reviews.fileids(categories='neg')]"
   ]
  },
  {
   "cell_type": "code",
   "execution_count": 93,
   "id": "236957cb",
   "metadata": {},
   "outputs": [],
   "source": [
    "from sklearn.naive_bayes import MultinomialNB\n",
    "from sklearn.feature_extraction.text import CountVectorizer\n",
    "from sklearn.model_selection import train_test_split\n",
    "from sklearn.metrics import accuracy_score\n",
    "from sklearn.utils import shuffle\n",
    "\n",
    "X=pos_reviews+neg_reviews\n",
    "y=['positive']*len(pos_reviews)+['negative']*len(neg_reviews)\n",
    "X,y=shuffle(X,y)\n"
   ]
  },
  {
   "cell_type": "code",
   "execution_count": 94,
   "id": "ce2f6e9c",
   "metadata": {},
   "outputs": [],
   "source": [
    "model=MultinomialNB()\n",
    "\n",
    "X_train,X_test,y_train,y_test=train_test_split(X,y,test_size=0.2,random_state=42)\n",
    "\n",
    "vectorizer=CountVectorizer()\n",
    "X_train_vect=vectorizer.fit_transform(X_train)\n",
    "X_test_vect=vectorizer.transform(X_test)\n"
   ]
  },
  {
   "cell_type": "code",
   "execution_count": 95,
   "id": "263bbf41",
   "metadata": {},
   "outputs": [
    {
     "name": "stdout",
     "output_type": "stream",
     "text": [
      "Accuracy score: 0.825\n"
     ]
    }
   ],
   "source": [
    "model.fit(X_train_vect,y_train)\n",
    "\n",
    "y_pred=model.predict(X_test_vect)\n",
    "\n",
    "print(f'Accuracy score: {accuracy_score(y_pred,y_test)}')"
   ]
  },
  {
   "cell_type": "code",
   "execution_count": 96,
   "id": "005b793f",
   "metadata": {},
   "outputs": [],
   "source": [
    "test_review1=\"This movie was absolutely amazing! The story was compelling, the acting was top-notch, and the cinematography was breathtaking. I was completely immersed from beginning to end. Highly recommended for anyone who loves great storytelling.\"\n",
    "test_review2=\"This was a complete waste of time. The plot was confusing, the acting felt forced, and the pacing was painfully slow. I kept waiting for it to get better, but it never did. Definitely would not recommend.\""
   ]
  },
  {
   "cell_type": "code",
   "execution_count": 97,
   "id": "661f11ce",
   "metadata": {},
   "outputs": [],
   "source": [
    "test_review1_vect=vectorizer.transform([test_review1])\n",
    "test_review2_vect=vectorizer.transform([test_review2])"
   ]
  },
  {
   "cell_type": "code",
   "execution_count": 98,
   "id": "f7a9baab",
   "metadata": {},
   "outputs": [
    {
     "name": "stdout",
     "output_type": "stream",
     "text": [
      "['positive']\n",
      "['negative']\n"
     ]
    }
   ],
   "source": [
    "print(model.predict(test_review1_vect))\n",
    "print(model.predict(test_review2_vect))"
   ]
  },
  {
   "cell_type": "code",
   "execution_count": null,
   "id": "abe943bf",
   "metadata": {},
   "outputs": [],
   "source": []
  }
 ],
 "metadata": {
  "kernelspec": {
   "display_name": "Python 3",
   "language": "python",
   "name": "python3"
  },
  "language_info": {
   "codemirror_mode": {
    "name": "ipython",
    "version": 3
   },
   "file_extension": ".py",
   "mimetype": "text/x-python",
   "name": "python",
   "nbconvert_exporter": "python",
   "pygments_lexer": "ipython3",
   "version": "3.13.2"
  }
 },
 "nbformat": 4,
 "nbformat_minor": 5
}
